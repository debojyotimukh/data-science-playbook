{
  "nbformat": 4,
  "nbformat_minor": 0,
  "metadata": {
    "kernelspec": {
      "display_name": "Python 3",
      "language": "python",
      "name": "python3"
    },
    "language_info": {
      "codemirror_mode": {
        "name": "ipython",
        "version": 3
      },
      "file_extension": ".py",
      "mimetype": "text/x-python",
      "name": "python",
      "nbconvert_exporter": "python",
      "pygments_lexer": "ipython3",
      "version": "3.7.4"
    },
    "colab": {
      "name": "MNIST.ipynb",
      "provenance": [],
      "include_colab_link": true
    }
  },
  "cells": [
    {
      "cell_type": "markdown",
      "metadata": {
        "id": "view-in-github",
        "colab_type": "text"
      },
      "source": [
        "<a href=\"https://colab.research.google.com/github/debojyotimukh/data-science-playbook/blob/master/MNIST.ipynb\" target=\"_parent\"><img src=\"https://colab.research.google.com/assets/colab-badge.svg\" alt=\"Open In Colab\"/></a>"
      ]
    },
    {
      "cell_type": "markdown",
      "metadata": {
        "id": "CpyM4uGdz9FG",
        "colab_type": "text"
      },
      "source": [
        "# Importing MNIST datasets"
      ]
    },
    {
      "cell_type": "code",
      "metadata": {
        "id": "S6tI_T_wz9FJ",
        "colab_type": "code",
        "colab": {},
        "outputId": "0a16a2f0-dbde-4a11-cbca-d272d42a247d"
      },
      "source": [
        "from sklearn.datasets import fetch_openml\n",
        "mnist=fetch_openml('mnist_784',version=1)\n",
        "mnist.keys()"
      ],
      "execution_count": null,
      "outputs": [
        {
          "output_type": "execute_result",
          "data": {
            "text/plain": [
              "dict_keys(['data', 'target', 'feature_names', 'DESCR', 'details', 'categories', 'url'])"
            ]
          },
          "metadata": {
            "tags": []
          },
          "execution_count": 21
        }
      ]
    },
    {
      "cell_type": "markdown",
      "metadata": {
        "id": "2MUrKUisz9FR",
        "colab_type": "text"
      },
      "source": [
        "Datasets loaded by Scikit-Learn generally have a similar dictionary structure including:\n",
        "    • A DESCR key describing the dataset\n",
        "    • A data key containing an array with one row per instance and one column per feature\n",
        "    • A target key containing an array with the labels "
      ]
    },
    {
      "cell_type": "code",
      "metadata": {
        "id": "XH1XU_Myz9FS",
        "colab_type": "code",
        "colab": {},
        "outputId": "928cede9-6b4d-4155-ae28-1c3411571a63"
      },
      "source": [
        "x,y=mnist['data'],mnist['target']\n",
        "x.shape"
      ],
      "execution_count": null,
      "outputs": [
        {
          "output_type": "execute_result",
          "data": {
            "text/plain": [
              "(70000, 784)"
            ]
          },
          "metadata": {
            "tags": []
          },
          "execution_count": 22
        }
      ]
    },
    {
      "cell_type": "code",
      "metadata": {
        "id": "frpZKqvVz9FX",
        "colab_type": "code",
        "colab": {},
        "outputId": "b21bfd18-75ce-40aa-9119-26045c384a57"
      },
      "source": [
        "y.shape"
      ],
      "execution_count": null,
      "outputs": [
        {
          "output_type": "execute_result",
          "data": {
            "text/plain": [
              "(70000,)"
            ]
          },
          "metadata": {
            "tags": []
          },
          "execution_count": 23
        }
      ]
    },
    {
      "cell_type": "markdown",
      "metadata": {
        "id": "5eSx6PKTz9Fe",
        "colab_type": "text"
      },
      "source": [
        "There are 70,000 images, and each image has 784 features. This is because each image is 28×28 pixels, and each feature simply represents one pixel’s intensity, from 0 (white) to 255 (black)."
      ]
    },
    {
      "cell_type": "code",
      "metadata": {
        "id": "VPLUWziMz9Ff",
        "colab_type": "code",
        "colab": {},
        "outputId": "c0851654-ac35-4b91-e55f-5cae2d547767"
      },
      "source": [
        "import matplotlib as mpl \n",
        "import matplotlib.pyplot as plt\n",
        "some_digit = x[15]\n",
        "some_digit_image = some_digit.reshape(28, 28)\n",
        "plt.imshow(some_digit_image, cmap = mpl.cm.binary, interpolation=\"nearest\") \n",
        "plt.axis(\"off\") \n",
        "plt.show()"
      ],
      "execution_count": null,
      "outputs": [
        {
          "output_type": "display_data",
          "data": {
            "image/png": "[encoded data removed]",
            "text/plain": [
              "<Figure size 432x288 with 1 Axes>"
            ]
          },
          "metadata": {
            "tags": [],
            "needs_background": "light"
          }
        }
      ]
    },
    {
      "cell_type": "code",
      "metadata": {
        "id": "aQw37nYxz9Fj",
        "colab_type": "code",
        "colab": {},
        "outputId": "5b8823f8-9028-4b5a-e9a6-70d1376e8d65"
      },
      "source": [
        "y[15]"
      ],
      "execution_count": null,
      "outputs": [
        {
          "output_type": "execute_result",
          "data": {
            "text/plain": [
              "'7'"
            ]
          },
          "metadata": {
            "tags": []
          },
          "execution_count": 25
        }
      ]
    },
    {
      "cell_type": "markdown",
      "metadata": {
        "id": "r6S_Waliz9Fp",
        "colab_type": "text"
      },
      "source": [
        "We need to convert lebels into integers"
      ]
    },
    {
      "cell_type": "code",
      "metadata": {
        "id": "twSFR2f_z9Fr",
        "colab_type": "code",
        "colab": {}
      },
      "source": [
        "import numpy as np\n",
        "y=y.astype(np.uint8)"
      ],
      "execution_count": null,
      "outputs": []
    },
    {
      "cell_type": "code",
      "metadata": {
        "id": "tq2rxljwz9Fw",
        "colab_type": "code",
        "colab": {},
        "outputId": "8ea92f1d-7008-41aa-b695-910425345618"
      },
      "source": [
        "y[15]"
      ],
      "execution_count": null,
      "outputs": [
        {
          "output_type": "execute_result",
          "data": {
            "text/plain": [
              "7"
            ]
          },
          "metadata": {
            "tags": []
          },
          "execution_count": 27
        }
      ]
    },
    {
      "cell_type": "markdown",
      "metadata": {
        "id": "icbuULKHz9F1",
        "colab_type": "text"
      },
      "source": [
        "# Creating Test set and Training set"
      ]
    },
    {
      "cell_type": "markdown",
      "metadata": {
        "id": "BiVrqAZBz9F2",
        "colab_type": "text"
      },
      "source": [
        " The MNIST dataset is actually already split into a training set (the first 60,000 images) and a test set (the last 10,000 images):\n"
      ]
    },
    {
      "cell_type": "code",
      "metadata": {
        "id": "rO0Rs7ozz9F3",
        "colab_type": "code",
        "colab": {}
      },
      "source": [
        "X_train,y_train,X_test,y_test=x[:60000],y[:60000],x[60000:],y[60000:]"
      ],
      "execution_count": null,
      "outputs": []
    },
    {
      "cell_type": "markdown",
      "metadata": {
        "id": "jFfXNLd1z9F8",
        "colab_type": "text"
      },
      "source": [
        "The training set is already shuffled for us, which is good as this guarantees that all cross-validation folds will be similar (you don’t want one fold to be missing some digits). Moreover, some learning algorithms are sensitive to the order of the training instances, and they perform poorly if they get many similar instances in a row. Shuffling the dataset ensures that this won’t happen"
      ]
    },
    {
      "cell_type": "markdown",
      "metadata": {
        "id": "L21kn-Nbz9F9",
        "colab_type": "text"
      },
      "source": [
        "# Binary Classifier"
      ]
    },
    {
      "cell_type": "markdown",
      "metadata": {
        "id": "HuP4qyAqz9F-",
        "colab_type": "text"
      },
      "source": [
        "Let us write a classifier that is going to identify only one digit i.e. 5 or not-5"
      ]
    },
    {
      "cell_type": "code",
      "metadata": {
        "id": "zRDtERXqz9F-",
        "colab_type": "code",
        "colab": {}
      },
      "source": [
        "y_test_5=(y_test==5)\n",
        "y_train_5=(y_train==5)"
      ],
      "execution_count": null,
      "outputs": []
    },
    {
      "cell_type": "markdown",
      "metadata": {
        "id": "-nf67KXwz9GC",
        "colab_type": "text"
      },
      "source": [
        "## Stochastic Gradient Descent(SGD) classifier"
      ]
    },
    {
      "cell_type": "markdown",
      "metadata": {
        "id": "f0gxWJKcz9GD",
        "colab_type": "text"
      },
      "source": [
        " This classifier has the advantage of being capable of handling very large datasets efficiently. This is in part because SGD deals with training instances independently, one at a time (which also makes SGD well suited for online learning)"
      ]
    },
    {
      "cell_type": "code",
      "metadata": {
        "id": "aYRobrtnz9GF",
        "colab_type": "code",
        "colab": {},
        "outputId": "4e75defc-f249-4a6b-8a79-255b7aaee0b1"
      },
      "source": [
        "from sklearn.linear_model import SGDClassifier\n",
        "\n",
        "sgd_clf = SGDClassifier(random_state=42) \n",
        "sgd_clf.fit(X_train, y_train_5)"
      ],
      "execution_count": null,
      "outputs": [
        {
          "output_type": "execute_result",
          "data": {
            "text/plain": [
              "SGDClassifier(alpha=0.0001, average=False, class_weight=None,\n",
              "              early_stopping=False, epsilon=0.1, eta0=0.0, fit_intercept=True,\n",
              "              l1_ratio=0.15, learning_rate='optimal', loss='hinge',\n",
              "              max_iter=1000, n_iter_no_change=5, n_jobs=None, penalty='l2',\n",
              "              power_t=0.5, random_state=42, shuffle=True, tol=0.001,\n",
              "              validation_fraction=0.1, verbose=0, warm_start=False)"
            ]
          },
          "metadata": {
            "tags": []
          },
          "execution_count": 30
        }
      ]
    },
    {
      "cell_type": "code",
      "metadata": {
        "id": "ADM_2AhZz9GJ",
        "colab_type": "code",
        "colab": {},
        "outputId": "dbde1924-01da-43d3-f0f9-06c76be8527e"
      },
      "source": [
        "sgd_clf.predict([some_digit])"
      ],
      "execution_count": null,
      "outputs": [
        {
          "output_type": "execute_result",
          "data": {
            "text/plain": [
              "array([False])"
            ]
          },
          "metadata": {
            "tags": []
          },
          "execution_count": 31
        }
      ]
    },
    {
      "cell_type": "markdown",
      "metadata": {
        "id": "MF1NsoLGz9GP",
        "colab_type": "text"
      },
      "source": [
        "The SGDClassifier relies on randomness during training (hence the name “stochastic”). If you want reproducible results, you should set the random_state parameter.\n"
      ]
    },
    {
      "cell_type": "markdown",
      "metadata": {
        "id": "KsEKwq0Xz9GQ",
        "colab_type": "text"
      },
      "source": [
        "# Performance Measures"
      ]
    },
    {
      "cell_type": "markdown",
      "metadata": {
        "id": "gtI5KNKkz9GQ",
        "colab_type": "text"
      },
      "source": [
        "Evaluating a classifier is often significantly trickier than evaluating a regressor. "
      ]
    },
    {
      "cell_type": "markdown",
      "metadata": {
        "id": "1JFwGIzBz9GR",
        "colab_type": "text"
      },
      "source": [
        "## Cross-Validation"
      ]
    },
    {
      "cell_type": "markdown",
      "metadata": {
        "id": "YvzIuZlYz9GS",
        "colab_type": "text"
      },
      "source": [
        "Occasionally you will need more control over the cross-validation process than what\n",
        "Scikit-Learn provides off-the-shelf. In these cases, you can implement crossvalidation yourself; it is actually fairly straightforward."
      ]
    },
    {
      "cell_type": "code",
      "metadata": {
        "id": "Ong4MwQBz9GT",
        "colab_type": "code",
        "colab": {},
        "outputId": "047871c0-abe9-4bc1-d8d9-4962693bdf4b"
      },
      "source": [
        "from sklearn.model_selection import StratifiedKFold\n",
        "from sklearn.base import clone\n",
        "\n",
        "skfolds=StratifiedKFold(n_splits=3,random_state=42)\n",
        "for train_index,test_index in skfolds.split(X_train,y_train_5):\n",
        "        clone_clf=clone(sgd_clf)\n",
        "        X_train_folds=X_train[train_index]\n",
        "        y_train_folds=y_train_5[train_index]\n",
        "        X_test_fold=X_train[test_index]\n",
        "        y_test_fold=y_train_5[test_index]\n",
        "        \n",
        "        clone_clf.fit(X_train_folds,y_train_folds)\n",
        "        y_pred=clone_clf.predict(X_test_fold)\n",
        "        n_correct=sum(y_pred==y_test_fold)\n",
        "        print(n_correct/len(y_pred)) "
      ],
      "execution_count": null,
      "outputs": [
        {
          "output_type": "stream",
          "text": [
            "0.95035\n",
            "0.96035\n",
            "0.9604\n"
          ],
          "name": "stdout"
        }
      ]
    },
    {
      "cell_type": "markdown",
      "metadata": {
        "id": "hYFqf5YYz9GX",
        "colab_type": "text"
      },
      "source": [
        "The StratifiedKFold class performs stratified sampling (as explained in Chapter 2)\n",
        "to produce folds that contain a representative ratio of each class. At each iteration the\n",
        "code creates a clone of the classifier, trains that clone on the training folds, and makes\n",
        "predictions on the test fold. Then it counts the number of correct predictions and\n",
        "outputs the ratio of correct predictions."
      ]
    },
    {
      "cell_type": "code",
      "metadata": {
        "id": "xQc19XuGz9GY",
        "colab_type": "code",
        "colab": {},
        "outputId": "7b6912a5-5d79-4a65-e36e-48826cfab0c1"
      },
      "source": [
        "from sklearn.model_selection import cross_val_score\n",
        "cross_val_score(sgd_clf,X_train,y_train_5,cv=3,scoring=\"accuracy\")"
      ],
      "execution_count": null,
      "outputs": [
        {
          "output_type": "execute_result",
          "data": {
            "text/plain": [
              "array([0.95035, 0.96035, 0.9604 ])"
            ]
          },
          "metadata": {
            "tags": []
          },
          "execution_count": 33
        }
      ]
    },
    {
      "cell_type": "markdown",
      "metadata": {
        "id": "sKMzSBXuz9Ge",
        "colab_type": "text"
      },
      "source": [
        "Lets try another dumb classifier"
      ]
    },
    {
      "cell_type": "code",
      "metadata": {
        "id": "t35Uu5RWz9Ge",
        "colab_type": "code",
        "colab": {}
      },
      "source": [
        "from sklearn.base import BaseEstimator\n",
        "\n",
        "class Never5Classifier(BaseEstimator):\n",
        "        def fit(self,X,y=None):\n",
        "                pass\n",
        "        def predict(self,X):\n",
        "                return np.zeros((len(X),1),dtype=bool)"
      ],
      "execution_count": null,
      "outputs": []
    },
    {
      "cell_type": "code",
      "metadata": {
        "id": "xP2RKiUYz9Gj",
        "colab_type": "code",
        "colab": {},
        "outputId": "ca0b9b5e-9ef1-4818-ef2f-3d5b7bebc6de"
      },
      "source": [
        "never_5_clf=Never5Classifier()\n",
        "cross_val_score(never_5_clf,X_train,y_train_5,cv=3,scoring=\"accuracy\")"
      ],
      "execution_count": null,
      "outputs": [
        {
          "output_type": "execute_result",
          "data": {
            "text/plain": [
              "array([0.91125, 0.90855, 0.90915])"
            ]
          },
          "metadata": {
            "tags": []
          },
          "execution_count": 35
        }
      ]
    },
    {
      "cell_type": "markdown",
      "metadata": {
        "id": "7J8-nwCnz9Gn",
        "colab_type": "text"
      },
      "source": [
        "That’s right, it has over 90% accuracy! This is simply because only about 10% of the\n",
        "images are 5s, so if you always guess that an image is not a 5, you will be right about\n",
        "90% of the time."
      ]
    },
    {
      "cell_type": "markdown",
      "metadata": {
        "id": "33DfWMOQz9Gn",
        "colab_type": "text"
      },
      "source": [
        "#### This demonstrates why accuracy is generally not the preferred performance measure\n",
        "for classifiers, especially when you are dealing with skewed datasets (i.e., when some\n",
        "classes are much more frequent than others)"
      ]
    },
    {
      "cell_type": "markdown",
      "metadata": {
        "id": "xA2N8vmKz9Go",
        "colab_type": "text"
      },
      "source": [
        "## Confusion Matrix"
      ]
    },
    {
      "cell_type": "markdown",
      "metadata": {
        "id": "xCQEky7sz9Gp",
        "colab_type": "text"
      },
      "source": [
        "The general idea is to count the number of times instances of class A are\n",
        "classified as class B. For example, to know the number of times the classifier confused\n",
        "images of 5s with 3s, you would look in the 5th row and 3rd column of the confusion\n",
        "matrix"
      ]
    },
    {
      "cell_type": "markdown",
      "metadata": {
        "id": "8AmFwFaaz9Gp",
        "colab_type": "text"
      },
      "source": [
        "Just like the cross_val_score() function, cross_val_predict() performs K-fold\n",
        "cross-validation, but instead of returning the evaluation scores, it returns the predic‐\n",
        "tions made on each test fold. This means that you get a clean prediction for each\n",
        "instance in the training set (“clean” meaning that the prediction is made by a model\n",
        "that never saw the data during training)."
      ]
    },
    {
      "cell_type": "code",
      "metadata": {
        "id": "Slx0FUcez9Gq",
        "colab_type": "code",
        "colab": {}
      },
      "source": [
        "from sklearn.model_selection import cross_val_predict\n",
        "\n",
        "y_train_pred=cross_val_predict(sgd_clf,X_train,y_train_5,cv=3)"
      ],
      "execution_count": null,
      "outputs": []
    },
    {
      "cell_type": "code",
      "metadata": {
        "id": "TdcZBEmkz9Gu",
        "colab_type": "code",
        "colab": {},
        "outputId": "848ab19d-db0c-4027-91d9-3906b72e6910"
      },
      "source": [
        "from sklearn.metrics import confusion_matrix\n",
        "confusion_matrix(y_train_5,y_train_pred)"
      ],
      "execution_count": null,
      "outputs": [
        {
          "output_type": "execute_result",
          "data": {
            "text/plain": [
              "array([[53892,   687],\n",
              "       [ 1891,  3530]], dtype=int64)"
            ]
          },
          "metadata": {
            "tags": []
          },
          "execution_count": 37
        }
      ]
    },
    {
      "cell_type": "markdown",
      "metadata": {
        "id": "-9xjYaAGz9Gx",
        "colab_type": "text"
      },
      "source": [
        "Each row in a confusion matrix represents an actual class, while each column represents a predicted class"
      ]
    },
    {
      "cell_type": "markdown",
      "metadata": {
        "id": "RaSM3ixzz9Gy",
        "colab_type": "text"
      },
      "source": [
        "true-negatives: 53,892 are classified correctly as non-5s"
      ]
    },
    {
      "cell_type": "markdown",
      "metadata": {
        "id": "SxbsxPlMz9Gz",
        "colab_type": "text"
      },
      "source": [
        "false-positives: 687 were wrongly classified as 5s"
      ]
    },
    {
      "cell_type": "markdown",
      "metadata": {
        "id": "Mavyd8Vwz9Gz",
        "colab_type": "text"
      },
      "source": [
        "false-negetives: 1891 were wrongly classified as non-5s"
      ]
    },
    {
      "cell_type": "markdown",
      "metadata": {
        "id": "Clxd9Qtez9G0",
        "colab_type": "text"
      },
      "source": [
        " true-positives: 3530 were correctly classified as 5s"
      ]
    },
    {
      "cell_type": "markdown",
      "metadata": {
        "id": "3hpm0coqz9G1",
        "colab_type": "text"
      },
      "source": [
        "A perfect classifier would have only true positives and true\n",
        "negatives, so its confusion matrix would have nonzero values only on its main diago‐\n",
        "nal (top left to bottom right"
      ]
    },
    {
      "cell_type": "markdown",
      "metadata": {
        "id": "snXQMfJBz9G1",
        "colab_type": "text"
      },
      "source": [
        "### Precision of classifier"
      ]
    },
    {
      "cell_type": "markdown",
      "metadata": {
        "id": "M7ZV_iFFz9G2",
        "colab_type": "text"
      },
      "source": [
        "$precision=\\frac{TP}{TP+FP}$"
      ]
    },
    {
      "cell_type": "markdown",
      "metadata": {
        "id": "H86NUULOz9G3",
        "colab_type": "text"
      },
      "source": [
        "TP is the number of true positives, and FP is the number of false positives."
      ]
    },
    {
      "cell_type": "markdown",
      "metadata": {
        "id": "Ni8hK10Mz9G3",
        "colab_type": "text"
      },
      "source": [
        "### Recall of classifier"
      ]
    },
    {
      "cell_type": "markdown",
      "metadata": {
        "id": "9zYoBgyrz9G4",
        "colab_type": "text"
      },
      "source": [
        "also called sensivity of true positive rate(TPR): this is the ratio of positive instances that are correctly detected by classifier"
      ]
    },
    {
      "cell_type": "markdown",
      "metadata": {
        "id": "Jq3mAOXUz9G5",
        "colab_type": "text"
      },
      "source": [
        "$recall=\\frac{TP}{TP+FN}$"
      ]
    },
    {
      "cell_type": "markdown",
      "metadata": {
        "id": "MvooHOO-z9G5",
        "colab_type": "text"
      },
      "source": [
        "![](confusion_matrix_diagram.jpg)"
      ]
    },
    {
      "cell_type": "code",
      "metadata": {
        "id": "NUf8s9tUz9G7",
        "colab_type": "code",
        "colab": {},
        "outputId": "4fa2eba1-7cc9-4aea-f7a0-5727d3da136f"
      },
      "source": [
        "from sklearn.metrics import precision_score,recall_score\n",
        "precision_score(y_train_5,y_train_pred)"
      ],
      "execution_count": null,
      "outputs": [
        {
          "output_type": "execute_result",
          "data": {
            "text/plain": [
              "0.8370879772350012"
            ]
          },
          "metadata": {
            "tags": []
          },
          "execution_count": 45
        }
      ]
    },
    {
      "cell_type": "code",
      "metadata": {
        "id": "wovqmgMzz9HF",
        "colab_type": "code",
        "colab": {},
        "outputId": "bd20f447-997b-4ea3-e2e2-badb10508f71"
      },
      "source": [
        "recall_score(y_train_5,y_train_pred)"
      ],
      "execution_count": null,
      "outputs": [
        {
          "output_type": "execute_result",
          "data": {
            "text/plain": [
              "0.6511713705958311"
            ]
          },
          "metadata": {
            "tags": []
          },
          "execution_count": 46
        }
      ]
    },
    {
      "cell_type": "markdown",
      "metadata": {
        "id": "QPH2b0-Nz9HJ",
        "colab_type": "text"
      },
      "source": [
        "When classifier claims an image represents a 5, it is correct only 83.7% of the time. Moreover, it only detects 65.1% of the 5s from the training set."
      ]
    },
    {
      "cell_type": "markdown",
      "metadata": {
        "id": "H8XBKPM1z9HK",
        "colab_type": "text"
      },
      "source": [
        "#### F1 score"
      ]
    },
    {
      "cell_type": "markdown",
      "metadata": {
        "id": "7ORWdAYVz9HK",
        "colab_type": "text"
      },
      "source": [
        "It is often convenient to combine precision and recall into a single metric called the F1\n",
        "score, in particular if you need a simple way to compare two classifiers. The F1\n",
        " score is the harmonic mean of precision and recall. As the harmonic mean gives more weight to lower values i.e. clasifier will only get high F1 score if both precision and recall are high"
      ]
    },
    {
      "cell_type": "markdown",
      "metadata": {
        "id": "2th0qFfPz9HL",
        "colab_type": "text"
      },
      "source": [
        "$$F_1=\\frac{2}{1/precision+1/recall}=2\\times \\frac{precision \\times recall}{precision+recall}$$"
      ]
    },
    {
      "cell_type": "code",
      "metadata": {
        "id": "qt9mXefzz9HM",
        "colab_type": "code",
        "colab": {},
        "outputId": "7633ee01-5b5c-446d-98a2-7676e1baebbb"
      },
      "source": [
        "from sklearn.metrics import f1_score\n",
        "f1_score(y_train_5,y_train_pred)"
      ],
      "execution_count": null,
      "outputs": [
        {
          "output_type": "execute_result",
          "data": {
            "text/plain": [
              "0.7325171197343846"
            ]
          },
          "metadata": {
            "tags": []
          },
          "execution_count": 47
        }
      ]
    },
    {
      "cell_type": "markdown",
      "metadata": {
        "id": "s16G2zp6z9HQ",
        "colab_type": "text"
      },
      "source": [
        "The f1 score favours classifiers that have similar precision and recall. That is not always what we want: in some context we care about precision and in some other context we really care about recall."
      ]
    },
    {
      "cell_type": "markdown",
      "metadata": {
        "id": "h87-JEgOz9HR",
        "colab_type": "text"
      },
      "source": [
        "Increasing precision reduces recall and vice versa. This is called precision/recall tradeoff."
      ]
    },
    {
      "cell_type": "code",
      "metadata": {
        "id": "Zpij3ia3z9HS",
        "colab_type": "code",
        "colab": {}
      },
      "source": [
        ""
      ],
      "execution_count": null,
      "outputs": []
    },
    {
      "cell_type": "code",
      "metadata": {
        "id": "3bucDiYxz9HV",
        "colab_type": "code",
        "colab": {}
      },
      "source": [
        ""
      ],
      "execution_count": null,
      "outputs": []
    },
    {
      "cell_type": "code",
      "metadata": {
        "id": "j3lLG9Goz9Ha",
        "colab_type": "code",
        "colab": {}
      },
      "source": [
        ""
      ],
      "execution_count": null,
      "outputs": []
    },
    {
      "cell_type": "code",
      "metadata": {
        "id": "sR2kpGOGz9He",
        "colab_type": "code",
        "colab": {}
      },
      "source": [
        ""
      ],
      "execution_count": null,
      "outputs": []
    },
    {
      "cell_type": "code",
      "metadata": {
        "id": "H5ghV6Vwz9Hi",
        "colab_type": "code",
        "colab": {}
      },
      "source": [
        ""
      ],
      "execution_count": null,
      "outputs": []
    },
    {
      "cell_type": "code",
      "metadata": {
        "id": "LTnLNr0cz9Hm",
        "colab_type": "code",
        "colab": {}
      },
      "source": [
        ""
      ],
      "execution_count": null,
      "outputs": []
    },
    {
      "cell_type": "code",
      "metadata": {
        "id": "53pa0sthz9Hp",
        "colab_type": "code",
        "colab": {}
      },
      "source": [
        ""
      ],
      "execution_count": null,
      "outputs": []
    },
    {
      "cell_type": "code",
      "metadata": {
        "id": "633czZEnz9Hs",
        "colab_type": "code",
        "colab": {}
      },
      "source": [
        ""
      ],
      "execution_count": null,
      "outputs": []
    },
    {
      "cell_type": "code",
      "metadata": {
        "id": "DiHGLVUfz9Hy",
        "colab_type": "code",
        "colab": {}
      },
      "source": [
        ""
      ],
      "execution_count": null,
      "outputs": []
    },
    {
      "cell_type": "code",
      "metadata": {
        "id": "Cit6QMo0z9H2",
        "colab_type": "code",
        "colab": {}
      },
      "source": [
        ""
      ],
      "execution_count": null,
      "outputs": []
    },
    {
      "cell_type": "code",
      "metadata": {
        "id": "7yDijv5Jz9H6",
        "colab_type": "code",
        "colab": {}
      },
      "source": [
        ""
      ],
      "execution_count": null,
      "outputs": []
    },
    {
      "cell_type": "code",
      "metadata": {
        "id": "LEQjyJnPz9H-",
        "colab_type": "code",
        "colab": {}
      },
      "source": [
        ""
      ],
      "execution_count": null,
      "outputs": []
    },
    {
      "cell_type": "code",
      "metadata": {
        "id": "2S0FcuqKz9IF",
        "colab_type": "code",
        "colab": {}
      },
      "source": [
        ""
      ],
      "execution_count": null,
      "outputs": []
    },
    {
      "cell_type": "code",
      "metadata": {
        "id": "WL8raecbz9IL",
        "colab_type": "code",
        "colab": {}
      },
      "source": [
        ""
      ],
      "execution_count": null,
      "outputs": []
    },
    {
      "cell_type": "code",
      "metadata": {
        "id": "cAgAR73az9IU",
        "colab_type": "code",
        "colab": {}
      },
      "source": [
        ""
      ],
      "execution_count": null,
      "outputs": []
    },
    {
      "cell_type": "code",
      "metadata": {
        "id": "y7x5aZopz9IZ",
        "colab_type": "code",
        "colab": {}
      },
      "source": [
        ""
      ],
      "execution_count": null,
      "outputs": []
    },
    {
      "cell_type": "code",
      "metadata": {
        "id": "dWYtApYMz9Id",
        "colab_type": "code",
        "colab": {}
      },
      "source": [
        ""
      ],
      "execution_count": null,
      "outputs": []
    },
    {
      "cell_type": "code",
      "metadata": {
        "id": "xjgu4hNGz9Il",
        "colab_type": "code",
        "colab": {}
      },
      "source": [
        ""
      ],
      "execution_count": null,
      "outputs": []
    },
    {
      "cell_type": "code",
      "metadata": {
        "id": "HRQLZFnJz9Iu",
        "colab_type": "code",
        "colab": {}
      },
      "source": [
        ""
      ],
      "execution_count": null,
      "outputs": []
    },
    {
      "cell_type": "code",
      "metadata": {
        "id": "4UCRt0fgz9Ix",
        "colab_type": "code",
        "colab": {}
      },
      "source": [
        ""
      ],
      "execution_count": null,
      "outputs": []
    },
    {
      "cell_type": "code",
      "metadata": {
        "id": "q37Y36uvz9I1",
        "colab_type": "code",
        "colab": {}
      },
      "source": [
        ""
      ],
      "execution_count": null,
      "outputs": []
    },
    {
      "cell_type": "code",
      "metadata": {
        "id": "71gYX13Pz9I4",
        "colab_type": "code",
        "colab": {}
      },
      "source": [
        ""
      ],
      "execution_count": null,
      "outputs": []
    },
    {
      "cell_type": "code",
      "metadata": {
        "id": "vlPGpIwNz9I7",
        "colab_type": "code",
        "colab": {}
      },
      "source": [
        ""
      ],
      "execution_count": null,
      "outputs": []
    },
    {
      "cell_type": "code",
      "metadata": {
        "id": "VfWa8t1Gz9I-",
        "colab_type": "code",
        "colab": {}
      },
      "source": [
        ""
      ],
      "execution_count": null,
      "outputs": []
    },
    {
      "cell_type": "code",
      "metadata": {
        "id": "fVNkrwrBz9JE",
        "colab_type": "code",
        "colab": {}
      },
      "source": [
        ""
      ],
      "execution_count": null,
      "outputs": []
    },
    {
      "cell_type": "code",
      "metadata": {
        "id": "Td08KKiCz9JJ",
        "colab_type": "code",
        "colab": {}
      },
      "source": [
        ""
      ],
      "execution_count": null,
      "outputs": []
    },
    {
      "cell_type": "code",
      "metadata": {
        "id": "PJs3caevz9JM",
        "colab_type": "code",
        "colab": {}
      },
      "source": [
        ""
      ],
      "execution_count": null,
      "outputs": []
    },
    {
      "cell_type": "code",
      "metadata": {
        "id": "rgrMGzFnz9JY",
        "colab_type": "code",
        "colab": {}
      },
      "source": [
        ""
      ],
      "execution_count": null,
      "outputs": []
    },
    {
      "cell_type": "code",
      "metadata": {
        "id": "-d6b7UhHz9Jb",
        "colab_type": "code",
        "colab": {}
      },
      "source": [
        ""
      ],
      "execution_count": null,
      "outputs": []
    },
    {
      "cell_type": "code",
      "metadata": {
        "id": "vJgwXiqdz9Jd",
        "colab_type": "code",
        "colab": {}
      },
      "source": [
        ""
      ],
      "execution_count": null,
      "outputs": []
    },
    {
      "cell_type": "code",
      "metadata": {
        "id": "aEezV_Ptz9Jg",
        "colab_type": "code",
        "colab": {}
      },
      "source": [
        ""
      ],
      "execution_count": null,
      "outputs": []
    },
    {
      "cell_type": "code",
      "metadata": {
        "id": "eqAuYttSz9Jn",
        "colab_type": "code",
        "colab": {}
      },
      "source": [
        ""
      ],
      "execution_count": null,
      "outputs": []
    },
    {
      "cell_type": "code",
      "metadata": {
        "id": "VZanw5mkz9Jt",
        "colab_type": "code",
        "colab": {}
      },
      "source": [
        ""
      ],
      "execution_count": null,
      "outputs": []
    },
    {
      "cell_type": "code",
      "metadata": {
        "id": "gP7HMGv5z9Jy",
        "colab_type": "code",
        "colab": {}
      },
      "source": [
        ""
      ],
      "execution_count": null,
      "outputs": []
    },
    {
      "cell_type": "code",
      "metadata": {
        "id": "MUj4Oblhz9J4",
        "colab_type": "code",
        "colab": {}
      },
      "source": [
        ""
      ],
      "execution_count": null,
      "outputs": []
    },
    {
      "cell_type": "code",
      "metadata": {
        "id": "-ecyPHGWz9J6",
        "colab_type": "code",
        "colab": {}
      },
      "source": [
        ""
      ],
      "execution_count": null,
      "outputs": []
    },
    {
      "cell_type": "code",
      "metadata": {
        "id": "qgKvXLDvz9J8",
        "colab_type": "code",
        "colab": {}
      },
      "source": [
        ""
      ],
      "execution_count": null,
      "outputs": []
    },
    {
      "cell_type": "code",
      "metadata": {
        "id": "TB84ooIez9J-",
        "colab_type": "code",
        "colab": {}
      },
      "source": [
        ""
      ],
      "execution_count": null,
      "outputs": []
    },
    {
      "cell_type": "code",
      "metadata": {
        "id": "jBEkjl8ez9KB",
        "colab_type": "code",
        "colab": {}
      },
      "source": [
        ""
      ],
      "execution_count": null,
      "outputs": []
    },
    {
      "cell_type": "code",
      "metadata": {
        "id": "9e7HPnPZz9KD",
        "colab_type": "code",
        "colab": {}
      },
      "source": [
        ""
      ],
      "execution_count": null,
      "outputs": []
    },
    {
      "cell_type": "code",
      "metadata": {
        "id": "Q_4_RmcEz9KH",
        "colab_type": "code",
        "colab": {}
      },
      "source": [
        ""
      ],
      "execution_count": null,
      "outputs": []
    },
    {
      "cell_type": "code",
      "metadata": {
        "id": "4h1MMmOBz9KL",
        "colab_type": "code",
        "colab": {}
      },
      "source": [
        ""
      ],
      "execution_count": null,
      "outputs": []
    },
    {
      "cell_type": "code",
      "metadata": {
        "id": "AdezRUxUz9KN",
        "colab_type": "code",
        "colab": {}
      },
      "source": [
        ""
      ],
      "execution_count": null,
      "outputs": []
    },
    {
      "cell_type": "code",
      "metadata": {
        "id": "knxZejp8z9KT",
        "colab_type": "code",
        "colab": {}
      },
      "source": [
        ""
      ],
      "execution_count": null,
      "outputs": []
    },
    {
      "cell_type": "code",
      "metadata": {
        "id": "6qOPYT1hz9KW",
        "colab_type": "code",
        "colab": {}
      },
      "source": [
        ""
      ],
      "execution_count": null,
      "outputs": []
    },
    {
      "cell_type": "code",
      "metadata": {
        "id": "a8FcRNnGz9Ka",
        "colab_type": "code",
        "colab": {}
      },
      "source": [
        ""
      ],
      "execution_count": null,
      "outputs": []
    },
    {
      "cell_type": "code",
      "metadata": {
        "id": "zVobQyWUz9Kd",
        "colab_type": "code",
        "colab": {}
      },
      "source": [
        ""
      ],
      "execution_count": null,
      "outputs": []
    }
  ]
}